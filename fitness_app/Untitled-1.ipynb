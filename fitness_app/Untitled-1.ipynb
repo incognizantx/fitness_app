{
 "cells": [
  {
   "cell_type": "code",
   "execution_count": 3,
   "id": "11c14875",
   "metadata": {},
   "outputs": [],
   "source": [
    "import pandas as pd\n",
    "import numpy as np\n",
    "\n",
    "n = 200  # number of rows"
   ]
  },
  {
   "cell_type": "code",
   "execution_count": null,
   "id": "6756fb78",
   "metadata": {},
   "outputs": [],
   "source": [
    "height = np.random.randint(150, 200, n)\n",
    "weight = np.random.randint(50, 160, n)\n",
    "bmi = np.round(weight / ((height/100)**2), 1)\n",
    "avg_intensity = 0 if bmi < 18.5 else (1 if bmi < 25 else 2)\n",
    "data = {\n",
    "    \"age\": np.random.randint(18, 65, n),\n",
    "    \"gender\": np.random.choice([0, 1], n),\n",
    "    \"height_cm\": height,\n",
    "    \"weight_kg\": weight,\n",
    "    \"BMI\": bmi,\n",
    "    \"fitness_level\": np.random.choice([\"Beginner\", \"Intermediate\", \"Advanced\"], n),\n",
    "    \"goal\": np.random.choice([\"Weight Loss\", \"Muscle Gain\", \"Endurance\"], n),\n",
    "    \"plan_length_days\": np.random.choice([14, 21, 28, 35, 42], n),\n",
    "    \"avg_intensity\": avg_intensity,\n",
    "    \"avg_sets_per_day\": np.random.randint(2, 6, n),\n",
    "    \"avg_reps_per_set\": np.random.randint(6, 15, n),\n",
    "    \"avg_cardio_minutes_per_day\": np.random.randint(10, 40, n),\n",
    "    \"exercise_types_count\": np.random.randint(2, 7, n),\n",
    "    \"previous_success_rate\": np.round(np.random.uniform(0.0, 1.0, n), 2),\n",
    "    \"previous_goal\": np.random.choice([\"Weight Loss\", \"Muscle Gain\", \"Endurance\"], n),\n",
    "    \"plan_success\": np.random.choice([0, 1], n),\n",
    "    \"plan_adherence_rate\": np.round(np.random.uniform(0.5, 1.0, n), 2),\n",
    "    \"user_rating\": np.round(np.random.uniform(1.0, 5.0, n), 1)\n",
    "}\n",
    "\n",
    "df = pd.DataFrame(data)\n",
    "df.to_csv(\"fitness_dataset2.csv\", index=False)"
   ]
  }
 ],
 "metadata": {
  "kernelspec": {
   "display_name": "Python 3",
   "language": "python",
   "name": "python3"
  },
  "language_info": {
   "codemirror_mode": {
    "name": "ipython",
    "version": 3
   },
   "file_extension": ".py",
   "mimetype": "text/x-python",
   "name": "python",
   "nbconvert_exporter": "python",
   "pygments_lexer": "ipython3",
   "version": "3.13.3"
  }
 },
 "nbformat": 4,
 "nbformat_minor": 5
}
